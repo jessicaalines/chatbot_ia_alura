{
  "nbformat": 4,
  "nbformat_minor": 0,
  "metadata": {
    "colab": {
      "provenance": [],
      "authorship_tag": "ABX9TyOILMASEp3O+80IzFa2Ddm+",
      "include_colab_link": true
    },
    "kernelspec": {
      "name": "python3",
      "display_name": "Python 3"
    },
    "language_info": {
      "name": "python"
    }
  },
  "cells": [
    {
      "cell_type": "markdown",
      "metadata": {
        "id": "view-in-github",
        "colab_type": "text"
      },
      "source": [
        "<a href=\"https://colab.research.google.com/github/jessicaalines/chatbot_ia_alura/blob/main/chatbot_IA_alura.ipynb\" target=\"_parent\"><img src=\"https://colab.research.google.com/assets/colab-badge.svg\" alt=\"Open In Colab\"/></a>"
      ]
    },
    {
      "cell_type": "markdown",
      "source": [
        "Instalando o SDK do Google."
      ],
      "metadata": {
        "id": "AJuNTRcQYQ9B"
      }
    },
    {
      "cell_type": "code",
      "execution_count": 2,
      "metadata": {
        "id": "GAgACBI2XWFn"
      },
      "outputs": [],
      "source": [
        "!pip install -q -U google-generativeai"
      ]
    },
    {
      "cell_type": "code",
      "source": [
        "import google.generativeai as genai\n",
        "\n",
        "#ocultando a API Key\n",
        "\n",
        "from google.colab import userdata\n",
        "api_key = userdata.get('SECRET_KEY')\n",
        "genai.configure(api_key=api_key)"
      ],
      "metadata": {
        "id": "bLYk2IQeYhdG"
      },
      "execution_count": 23,
      "outputs": []
    },
    {
      "cell_type": "markdown",
      "source": [
        "Listar os modelos disponíveis com um loop de busca dos modelos que estão disponíveis para uso para geração de conteúdo\n"
      ],
      "metadata": {
        "id": "TwiLptmZZAfl"
      }
    },
    {
      "cell_type": "code",
      "source": [
        "for model in genai.list_models():\n",
        "  if 'generateContent' in model.supported_generation_methods:\n",
        "    print(model.name)"
      ],
      "metadata": {
        "colab": {
          "base_uri": "https://localhost:8080/",
          "height": 138
        },
        "id": "x9WPAXj0Y-ej",
        "outputId": "d2ef45b8-56ba-4103-c56e-58603b19d99e"
      },
      "execution_count": 4,
      "outputs": [
        {
          "output_type": "stream",
          "name": "stdout",
          "text": [
            "models/gemini-1.0-pro\n",
            "models/gemini-1.0-pro-001\n",
            "models/gemini-1.0-pro-latest\n",
            "models/gemini-1.0-pro-vision-latest\n",
            "models/gemini-1.5-pro-latest\n",
            "models/gemini-pro\n",
            "models/gemini-pro-vision\n"
          ]
        }
      ]
    },
    {
      "cell_type": "code",
      "source": [
        "generation_settings = {\n",
        "    \"candidate_count\": 1, #apenas uma opção de resposta deve aparecer\n",
        "    \"temperature\": 0.5,\n",
        "}"
      ],
      "metadata": {
        "id": "FwNGkOmpafK3"
      },
      "execution_count": 14,
      "outputs": []
    },
    {
      "cell_type": "code",
      "source": [
        "safety_settings = {\n",
        "    \"HARASSMENT\": \"BLOCK_NONE\",\n",
        "    \"HATE\": \"BLOCK_NONE\",\n",
        "    \"SEXUAL\": \"BLOCK_NONE\",\n",
        "    \"DANGEROUS\": \"BLOCK_NONE\"\n",
        "}"
      ],
      "metadata": {
        "id": "sdAh1ObrbW03"
      },
      "execution_count": 6,
      "outputs": []
    },
    {
      "cell_type": "markdown",
      "source": [
        "Inicializando o modelo."
      ],
      "metadata": {
        "id": "cZr2caFpcYs8"
      }
    },
    {
      "cell_type": "code",
      "source": [
        "model = genai.GenerativeModel(model_name=\"gemini-1.0-pro\",\n",
        "                              generation_config=generation_settings,\n",
        "                              safety_settings=safety_settings)"
      ],
      "metadata": {
        "id": "kBxIzAZ2cF8_"
      },
      "execution_count": 15,
      "outputs": []
    },
    {
      "cell_type": "code",
      "source": [
        "response = model.generate_content(\"Vamos aprender conteúdos sobre IA. Me dê sugestões.\")\n",
        "print(response.text)"
      ],
      "metadata": {
        "colab": {
          "base_uri": "https://localhost:8080/",
          "height": 731
        },
        "id": "mcc73WzIeUJ3",
        "outputId": "931fa6ae-63ba-4dfd-cd00-a5504fcdf260"
      },
      "execution_count": 16,
      "outputs": [
        {
          "output_type": "stream",
          "name": "stdout",
          "text": [
            "**Conceitos Fundamentais**\n",
            "\n",
            "* O que é Inteligência Artificial (IA)?\n",
            "* Tipos de IA (por exemplo, aprendizado de máquina, aprendizado profundo, aprendizado por reforço)\n",
            "* Algoritmos e técnicas comuns de IA\n",
            "* Aprendizado supervisionado, não supervisionado e por reforço\n",
            "\n",
            "**Aprendizado de Máquina**\n",
            "\n",
            "* Tipos de aprendizado de máquina (por exemplo, classificação, regressão, agrupamento)\n",
            "* Modelos de aprendizado de máquina (por exemplo, árvores de decisão, redes neurais)\n",
            "* Avaliação e seleção de modelos\n",
            "* Processamento e preparação de dados\n",
            "\n",
            "**Aprendizado Profundo**\n",
            "\n",
            "* O que é aprendizado profundo?\n",
            "* Redes neurais (por exemplo, CNNs, RNNs, Transformers)\n",
            "* Arquiteturas de rede comuns\n",
            "* Treinamento e otimização de redes neurais\n",
            "\n",
            "**Aprendizado por Reforço**\n",
            "\n",
            "* O que é aprendizado por reforço?\n",
            "* Ambientes e agentes\n",
            "* Algoritmos de aprendizado por reforço (por exemplo, Q-learning, SARSA)\n",
            "* Aplicações de aprendizado por reforço\n",
            "\n",
            "**Aplicações de IA**\n",
            "\n",
            "* IA na saúde (por exemplo, diagnóstico, tratamento personalizado)\n",
            "* IA em finanças (por exemplo, detecção de fraudes, gerenciamento de investimentos)\n",
            "* IA na manufatura (por exemplo, automação, otimização de processos)\n",
            "* IA em transporte (por exemplo, veículos autônomos, otimização de rotas)\n",
            "\n",
            "**Ética e Implicações Sociais da IA**\n",
            "\n",
            "* Implicações éticas da IA (por exemplo, viés, privacidade, desemprego)\n",
            "* Regulamentações e diretrizes éticas para IA\n",
            "* O impacto social da IA (por exemplo, automação do trabalho, desigualdade)\n"
          ]
        }
      ]
    },
    {
      "cell_type": "markdown",
      "source": [
        "Inicializando o chat e guardando o seu histórico em uma lista vazia."
      ],
      "metadata": {
        "id": "3IrlL7GB5Zc0"
      }
    },
    {
      "cell_type": "code",
      "source": [
        "chat = model.start_chat(history=[])"
      ],
      "metadata": {
        "id": "d_Qff9WW415M"
      },
      "execution_count": 17,
      "outputs": []
    },
    {
      "cell_type": "markdown",
      "source": [
        "Input do prompt."
      ],
      "metadata": {
        "id": "3C7KgT6b5VxD"
      }
    },
    {
      "cell_type": "code",
      "source": [
        "prompt = input(\"Aguardando prompt: \")\n",
        "\n",
        "while prompt != \"fim\":\n",
        "  response = chat.send_message(prompt)\n",
        "  print(\"Resposta: \", response.text, \"\\n\")\n",
        "  prompt = input(\"Aguardando prompt: \")\n"
      ],
      "metadata": {
        "colab": {
          "base_uri": "https://localhost:8080/",
          "height": 295
        },
        "id": "6_hS7GYw5SUv",
        "outputId": "4fc968e9-897f-416b-9712-3bbc997300b7"
      },
      "execution_count": 19,
      "outputs": [
        {
          "name": "stdout",
          "output_type": "stream",
          "text": [
            "Aguardando prompt: qual é a capital do japão?\n",
            "Resposta:  Tóquio \n",
            "\n",
            "Aguardando prompt: qual é a comida típica desse país?\n",
            "Resposta:  Sushi \n",
            "\n",
            "Aguardando prompt: o meu primo nasceu nessa cidade, qual a nacionalidade dele?\n",
            "Resposta:  Japonesa \n",
            "\n",
            "Aguardando prompt: qual é a população dessa cidade?\n",
            "Resposta:  13.960.236 (2021) \n",
            "\n",
            "Aguardando prompt: e desse país?\n",
            "Resposta:  125.507.472 (2023) \n",
            "\n",
            "Aguardando prompt: fim\n"
          ]
        }
      ]
    },
    {
      "cell_type": "code",
      "source": [
        "# Melhorando a visualização\n",
        "# Código disponível em https://ai.google.dev/tutorials/python_quickstart@import packages\n",
        "\n",
        "import textwrap\n",
        "from IPython.display import display\n",
        "from IPython.display import Markdown\n",
        "\n",
        "def to_markdown(text):\n",
        "    \"\"\"\n",
        "    Converte texto em markdown.\n",
        "\n",
        "    Args:\n",
        "        text (str): Texto a ser convertido.\n",
        "\n",
        "    Returns:\n",
        "        str: Texto formatado em markdown.\n",
        "    \"\"\"\n",
        "    text = text.replace(\",\", \"\\n\")\n",
        "    return Markdown(textwrap.indent(text, \"> \"))\n",
        "\n",
        "# Imprimindo o histórico\n",
        "for message in chat.history:\n",
        "    display(to_markdown(f\"**{message.role}**: {message.parts[0].text}\"))\n",
        "    print(\" \")\n"
      ],
      "metadata": {
        "colab": {
          "base_uri": "https://localhost:8080/",
          "height": 644
        },
        "id": "afnyhu6a8CBW",
        "outputId": "c47cb8dc-d5ad-4b20-df44-58335a698337"
      },
      "execution_count": 20,
      "outputs": [
        {
          "output_type": "display_data",
          "data": {
            "text/plain": [
              "<IPython.core.display.Markdown object>"
            ],
            "text/markdown": "> **user**: qual é a capital do japão?"
          },
          "metadata": {}
        },
        {
          "output_type": "stream",
          "name": "stdout",
          "text": [
            " \n"
          ]
        },
        {
          "output_type": "display_data",
          "data": {
            "text/plain": [
              "<IPython.core.display.Markdown object>"
            ],
            "text/markdown": "> **model**: Tóquio"
          },
          "metadata": {}
        },
        {
          "output_type": "stream",
          "name": "stdout",
          "text": [
            " \n"
          ]
        },
        {
          "output_type": "display_data",
          "data": {
            "text/plain": [
              "<IPython.core.display.Markdown object>"
            ],
            "text/markdown": "> **user**: qual é a comida típica desse país?"
          },
          "metadata": {}
        },
        {
          "output_type": "stream",
          "name": "stdout",
          "text": [
            " \n"
          ]
        },
        {
          "output_type": "display_data",
          "data": {
            "text/plain": [
              "<IPython.core.display.Markdown object>"
            ],
            "text/markdown": "> **model**: Sushi"
          },
          "metadata": {}
        },
        {
          "output_type": "stream",
          "name": "stdout",
          "text": [
            " \n"
          ]
        },
        {
          "output_type": "display_data",
          "data": {
            "text/plain": [
              "<IPython.core.display.Markdown object>"
            ],
            "text/markdown": "> **user**: o meu primo nasceu nessa cidade\n>  qual a nacionalidade dele?"
          },
          "metadata": {}
        },
        {
          "output_type": "stream",
          "name": "stdout",
          "text": [
            " \n"
          ]
        },
        {
          "output_type": "display_data",
          "data": {
            "text/plain": [
              "<IPython.core.display.Markdown object>"
            ],
            "text/markdown": "> **model**: Japonesa"
          },
          "metadata": {}
        },
        {
          "output_type": "stream",
          "name": "stdout",
          "text": [
            " \n"
          ]
        },
        {
          "output_type": "display_data",
          "data": {
            "text/plain": [
              "<IPython.core.display.Markdown object>"
            ],
            "text/markdown": "> **user**: qual é a população dessa cidade?"
          },
          "metadata": {}
        },
        {
          "output_type": "stream",
          "name": "stdout",
          "text": [
            " \n"
          ]
        },
        {
          "output_type": "display_data",
          "data": {
            "text/plain": [
              "<IPython.core.display.Markdown object>"
            ],
            "text/markdown": "> **model**: 13.960.236 (2021)"
          },
          "metadata": {}
        },
        {
          "output_type": "stream",
          "name": "stdout",
          "text": [
            " \n"
          ]
        },
        {
          "output_type": "display_data",
          "data": {
            "text/plain": [
              "<IPython.core.display.Markdown object>"
            ],
            "text/markdown": "> **user**: e desse país?"
          },
          "metadata": {}
        },
        {
          "output_type": "stream",
          "name": "stdout",
          "text": [
            " \n"
          ]
        },
        {
          "output_type": "display_data",
          "data": {
            "text/plain": [
              "<IPython.core.display.Markdown object>"
            ],
            "text/markdown": "> **model**: 125.507.472 (2023)"
          },
          "metadata": {}
        },
        {
          "output_type": "stream",
          "name": "stdout",
          "text": [
            " \n"
          ]
        }
      ]
    }
  ]
}